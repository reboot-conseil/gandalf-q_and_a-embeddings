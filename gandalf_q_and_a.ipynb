{
 "cells": [
  {
   "cell_type": "code",
   "execution_count": 1,
   "metadata": {},
   "outputs": [
    {
     "name": "stdout",
     "output_type": "stream",
     "text": [
      "Defaulting to user installation because normal site-packages is not writeable\n",
      "Requirement already satisfied: pyodbc in /home/yactouat/.local/lib/python3.10/site-packages (4.0.39)\n",
      "Requirement already satisfied: python-dotenv in /home/yactouat/.local/lib/python3.10/site-packages (1.0.0)\n",
      "Note: you may need to restart the kernel to use updated packages.\n"
     ]
    }
   ],
   "source": [
    "%pip install pyodbc python-dotenv"
   ]
  },
  {
   "cell_type": "code",
   "execution_count": 2,
   "metadata": {},
   "outputs": [],
   "source": [
    "# import dependencies\n",
    "from dotenv import load_dotenv\n",
    "import os\n",
    "import pyodbc"
   ]
  },
  {
   "cell_type": "code",
   "execution_count": 3,
   "metadata": {},
   "outputs": [
    {
     "data": {
      "text/plain": [
       "True"
      ]
     },
     "execution_count": 3,
     "metadata": {},
     "output_type": "execute_result"
    }
   ],
   "source": [
    "# loading env\n",
    "load_dotenv()"
   ]
  },
  {
   "cell_type": "code",
   "execution_count": 7,
   "metadata": {},
   "outputs": [
    {
     "name": "stdout",
     "output_type": "stream",
     "text": [
      "('Free for dev', 'https://gandalfrebootsorage.blob.core.windows.net/posts/free-for-dev-1670163877675.md', 'Ressources gratuites pour les développeurs sur différents services web (SaaS, PaaS, IaaS, etc.)')\n",
      "('Ressources clouds gratuites', 'https://gandalfrebootsorage.blob.core.windows.net/posts/ressources-clouds-gratuites-1670164147188.md', 'Ressources  clouds')\n",
      "('Notre 1er Hackathon', 'https://gandalfrebootsorage.blob.core.windows.net/posts/notre-1er-hackathon-1670164164715.md', \"Ce qui est génial dans une jeune entreprise, c'est que chaque action que nous faisons est historique. Alors laissez-moi vous raconter une première HISTORIQUE dans l'histoire de Reboot Conseil : NOTRE PREMIER HACKATHON !\")\n",
      "('Gastronomie', 'https://gandalfrebootsorage.blob.core.windows.net/posts/bon-restaurants-1670164367227.md', 'Listes des bon restaurants aux alentours')\n",
      "('Hackaton 2', 'https://gandalfrebootsorage.blob.core.windows.net/posts/hackaton-2-1670166446142.md', 'description')\n",
      "('Les meilleurs restaurants de strasbourg', 'https://gandalfrebootsorage.blob.core.windows.net/posts/lorem-ipsum-1678268847833.md', 'Pour ceux qui ont faim')\n",
      "('spécification technique des séries', 'https://gandalfrebootsorage.blob.core.windows.net/posts/specification-technique-des-series-1678790622781.md', 'détail des spécifications techniques des séries')\n",
      "('Impl\\\\u00e9mentation des s\\\\u00e9ries dans Gandalf\\\\ud83e\\\\uddd9\\\\u200d\\\\u2642\\\\ufe0f', 'https://gandalfrebootsorage.blob.core.windows.net/posts/test-pour-serie-1679574263850.md', 'Descriptions des attentes de la fonctionnalité \" série de posts \"')\n",
      "('Un composant pour les gouverner tous \\\\ud83d\\\\udc8d', 'https://gandalfrebootsorage.blob.core.windows.net/posts/un-composant-pour-les-gouverner-tous-1680700840014.md', 'Le composant SerieForm pour créer ou modifier / supprimer une série')\n",
      "('La vue AppSerieAdd.vue : cr\\\\u00e9er les s\\\\u00e9ries \\\\ud83d\\\\udd2d', 'https://gandalfrebootsorage.blob.core.windows.net/posts/la-creation-de-series-1680702477023.md', 'Une vue définissant le contexte de création')\n",
      "('La vue AppSerieUpdate.vue : modifier s\\\\u00e9ries ou supprimer les s\\\\u00e9ries \\\\ud83d\\\\udd2d', 'https://gandalfrebootsorage.blob.core.windows.net/posts/la-vue-appserieupdatevue-1680703331213.md', 'Une vue définissant le contexte de modification / suppression')\n",
      "('Un composant pour afficher toutes les s\\\\u00e9ries \\\\ud83d\\\\udcfa', 'https://gandalfrebootsorage.blob.core.windows.net/posts/un-composant-pour-les-afficher-toutes-les-series-1680705584079.md', 'Le composant Serie pour afficher les séries de posts sous un post')\n",
      "(\"Let's Talk - Les sauvegardes et leurs impacts\", 'https://gandalfrebootsorage.blob.core.windows.net/posts/lets-talk-about-it-1680786469638.md', 'Bien être préparer à une perte de données')\n",
      "('Bistronomie', 'https://gandalfrebootsorage.blob.core.windows.net/posts/bistronomie-1680791754599.md', 'Les meilleurs bistros ou y manger pour pas cher')\n",
      "('\\\\u0153nogastronomie', 'https://gandalfrebootsorage.blob.core.windows.net/posts/nogastronomie-1680791805661.md', 'Les meilleurs bar à vin du coin ayant un prix correct pour bien manger')\n",
      "('Tout le process de Reboot Academy !', 'https://gandalfrebootsorage.blob.core.windows.net/posts/tout-le-process-de-reboot-academy--1681219287796.md', \"Reboot Academy est l'organisme de Formation de Reboot Conseil par lequel nous dispensons nos formations !\")\n",
      "('Partez serein sur un appel de prospection pour le Hackathon: préparez votre deck !', 'https://gandalfrebootsorage.blob.core.windows.net/posts/partez-serein-sur-un-appel-de-prospection-pour-le-hackathon-preparez-votre-deck--1681379957962.md', \"Après avoir constaté que faire un call de prospection (commerciale, RH, etc.)  au talent sans documents préparés peut marcher (c'est un peu l'histoire de ma vie), force est de constater que c'est quand même cool de ne pas se prendre pour Jerry Maguire et de préparer un deck en amont\")\n",
      "('Comment saisir du contenu sur Strapi pour Reboot Academy?', 'https://gandalfrebootsorage.blob.core.windows.net/posts/comment-saisir-du-contenu-sur-strapi-pour-reboot-academy-1681379997048.md', \"Strapi est un sytème de gestion de contenu (CMS) qu'on utilise pour gérer le contenu du site Reboot Academy.\\nTout (ou presque) ce qui est affiché sur le site de Reboot Academy se remplit sur Strapi.\\nSavoir coder n’est pas requis pour remplir le site, mais voici un article pour vous guider sur Strapi.\")\n",
      "('Ouverture de Gandalf', 'https://gandalfrebootsorage.blob.core.windows.net/posts/ouverture-de-gandalf-1681380030599.md', \"Gandalf est utilisable en production ! C'est une version basique, où il reste des placeholders et des données en dur qui montre ce qui est prévu de faire.\")\n",
      "('La Gazzetta del Rebooto n19 - f\\\\u00e9vrier 2023', 'https://gandalfrebootsorage.blob.core.windows.net/posts/la-gazzetta-del-rebooto-n19---fevrier-2023-1681380061241.md', \"La Gazzetta del Rebooto est notre journal mensuel sur les activités de l'entreprise où l'on partage les infos-clés sur le mois écoulé.\")\n",
      "('Reboot Academy - en pratique par r\\\\u00f4le', 'https://gandalfrebootsorage.blob.core.windows.net/posts/reboot-academy---en-pratique-par-role-1681380360101.md', \"Ce que chacun doit faire dans le cadre d'une formation sollicitée dans Reboot Academy. oui\")\n",
      "('Gymlib, tu nous rejoins?', 'https://gandalfrebootsorage.blob.core.windows.net/posts/gymlib-tu-nous-rejoins-1681382232490.md', 'En pratique, comment fait-on entre Rebooters?')\n",
      "('Test recette 24/04', 'https://gandalfrebootsorage.blob.core.windows.net/posts/test-recette-24/04-1682345054765.md', 'est recette redesign frontend')\n",
      "('Je test la cr\\\\u00e9ation ', 'https://gandalfrebootsorage.blob.core.windows.net/posts/je-test-la-creation--1687951007369.md', 'Tester les caracères de création et û ü ')\n",
      "('test avatar', 'https://gandalfrebootsorage.blob.core.windows.net/posts/test-avatar-1689749910780.md', 'Lorem!')\n"
     ]
    },
    {
     "data": {
      "text/plain": [
       "[('Free for dev', 'https://gandalfrebootsorage.blob.core.windows.net/posts/free-for-dev-1670163877675.md', 'Ressources gratuites pour les développeurs sur différents services web (SaaS, PaaS, IaaS, etc.)'),\n",
       " ('Ressources clouds gratuites', 'https://gandalfrebootsorage.blob.core.windows.net/posts/ressources-clouds-gratuites-1670164147188.md', 'Ressources  clouds'),\n",
       " ('Notre 1er Hackathon', 'https://gandalfrebootsorage.blob.core.windows.net/posts/notre-1er-hackathon-1670164164715.md', \"Ce qui est génial dans une jeune entreprise, c'est que chaque action que nous faisons est historique. Alors laissez-moi vous raconter une première HISTORIQUE dans l'histoire de Reboot Conseil : NOTRE PREMIER HACKATHON !\"),\n",
       " ('Gastronomie', 'https://gandalfrebootsorage.blob.core.windows.net/posts/bon-restaurants-1670164367227.md', 'Listes des bon restaurants aux alentours'),\n",
       " ('Hackaton 2', 'https://gandalfrebootsorage.blob.core.windows.net/posts/hackaton-2-1670166446142.md', 'description'),\n",
       " ('Les meilleurs restaurants de strasbourg', 'https://gandalfrebootsorage.blob.core.windows.net/posts/lorem-ipsum-1678268847833.md', 'Pour ceux qui ont faim'),\n",
       " ('spécification technique des séries', 'https://gandalfrebootsorage.blob.core.windows.net/posts/specification-technique-des-series-1678790622781.md', 'détail des spécifications techniques des séries'),\n",
       " ('Impl\\\\u00e9mentation des s\\\\u00e9ries dans Gandalf\\\\ud83e\\\\uddd9\\\\u200d\\\\u2642\\\\ufe0f', 'https://gandalfrebootsorage.blob.core.windows.net/posts/test-pour-serie-1679574263850.md', 'Descriptions des attentes de la fonctionnalité \" série de posts \"'),\n",
       " ('Un composant pour les gouverner tous \\\\ud83d\\\\udc8d', 'https://gandalfrebootsorage.blob.core.windows.net/posts/un-composant-pour-les-gouverner-tous-1680700840014.md', 'Le composant SerieForm pour créer ou modifier / supprimer une série'),\n",
       " ('La vue AppSerieAdd.vue : cr\\\\u00e9er les s\\\\u00e9ries \\\\ud83d\\\\udd2d', 'https://gandalfrebootsorage.blob.core.windows.net/posts/la-creation-de-series-1680702477023.md', 'Une vue définissant le contexte de création'),\n",
       " ('La vue AppSerieUpdate.vue : modifier s\\\\u00e9ries ou supprimer les s\\\\u00e9ries \\\\ud83d\\\\udd2d', 'https://gandalfrebootsorage.blob.core.windows.net/posts/la-vue-appserieupdatevue-1680703331213.md', 'Une vue définissant le contexte de modification / suppression'),\n",
       " ('Un composant pour afficher toutes les s\\\\u00e9ries \\\\ud83d\\\\udcfa', 'https://gandalfrebootsorage.blob.core.windows.net/posts/un-composant-pour-les-afficher-toutes-les-series-1680705584079.md', 'Le composant Serie pour afficher les séries de posts sous un post'),\n",
       " (\"Let's Talk - Les sauvegardes et leurs impacts\", 'https://gandalfrebootsorage.blob.core.windows.net/posts/lets-talk-about-it-1680786469638.md', 'Bien être préparer à une perte de données'),\n",
       " ('Bistronomie', 'https://gandalfrebootsorage.blob.core.windows.net/posts/bistronomie-1680791754599.md', 'Les meilleurs bistros ou y manger pour pas cher'),\n",
       " ('\\\\u0153nogastronomie', 'https://gandalfrebootsorage.blob.core.windows.net/posts/nogastronomie-1680791805661.md', 'Les meilleurs bar à vin du coin ayant un prix correct pour bien manger'),\n",
       " ('Tout le process de Reboot Academy !', 'https://gandalfrebootsorage.blob.core.windows.net/posts/tout-le-process-de-reboot-academy--1681219287796.md', \"Reboot Academy est l'organisme de Formation de Reboot Conseil par lequel nous dispensons nos formations !\"),\n",
       " ('Partez serein sur un appel de prospection pour le Hackathon: préparez votre deck !', 'https://gandalfrebootsorage.blob.core.windows.net/posts/partez-serein-sur-un-appel-de-prospection-pour-le-hackathon-preparez-votre-deck--1681379957962.md', \"Après avoir constaté que faire un call de prospection (commerciale, RH, etc.)  au talent sans documents préparés peut marcher (c'est un peu l'histoire de ma vie), force est de constater que c'est quand même cool de ne pas se prendre pour Jerry Maguire et de préparer un deck en amont\"),\n",
       " ('Comment saisir du contenu sur Strapi pour Reboot Academy?', 'https://gandalfrebootsorage.blob.core.windows.net/posts/comment-saisir-du-contenu-sur-strapi-pour-reboot-academy-1681379997048.md', \"Strapi est un sytème de gestion de contenu (CMS) qu'on utilise pour gérer le contenu du site Reboot Academy.\\nTout (ou presque) ce qui est affiché sur le site de Reboot Academy se remplit sur Strapi.\\nSavoir coder n’est pas requis pour remplir le site, mais voici un article pour vous guider sur Strapi.\"),\n",
       " ('Ouverture de Gandalf', 'https://gandalfrebootsorage.blob.core.windows.net/posts/ouverture-de-gandalf-1681380030599.md', \"Gandalf est utilisable en production ! C'est une version basique, où il reste des placeholders et des données en dur qui montre ce qui est prévu de faire.\"),\n",
       " ('La Gazzetta del Rebooto n19 - f\\\\u00e9vrier 2023', 'https://gandalfrebootsorage.blob.core.windows.net/posts/la-gazzetta-del-rebooto-n19---fevrier-2023-1681380061241.md', \"La Gazzetta del Rebooto est notre journal mensuel sur les activités de l'entreprise où l'on partage les infos-clés sur le mois écoulé.\"),\n",
       " ('Reboot Academy - en pratique par r\\\\u00f4le', 'https://gandalfrebootsorage.blob.core.windows.net/posts/reboot-academy---en-pratique-par-role-1681380360101.md', \"Ce que chacun doit faire dans le cadre d'une formation sollicitée dans Reboot Academy. oui\"),\n",
       " ('Gymlib, tu nous rejoins?', 'https://gandalfrebootsorage.blob.core.windows.net/posts/gymlib-tu-nous-rejoins-1681382232490.md', 'En pratique, comment fait-on entre Rebooters?'),\n",
       " ('Test recette 24/04', 'https://gandalfrebootsorage.blob.core.windows.net/posts/test-recette-24/04-1682345054765.md', 'est recette redesign frontend'),\n",
       " ('Je test la cr\\\\u00e9ation ', 'https://gandalfrebootsorage.blob.core.windows.net/posts/je-test-la-creation--1687951007369.md', 'Tester les caracères de création et û ü '),\n",
       " ('test avatar', 'https://gandalfrebootsorage.blob.core.windows.net/posts/test-avatar-1689749910780.md', 'Lorem!')]"
      ]
     },
     "execution_count": 7,
     "metadata": {},
     "output_type": "execute_result"
    }
   ],
   "source": [
    "# get the list of all Gandalf posts from the MSSQL db\n",
    "user = os.environ[\"DB_USER\"]\n",
    "password = os.getenv(\"DB_PASSWORD\")\n",
    "server = os.getenv(\"DB_SERVER\")\n",
    "database = os.getenv(\"DB_NAME\")\n",
    "\n",
    "# ! you may need to change that if you're not using the ODBC Driver 17 for SQL Server\n",
    "conn = pyodbc.connect(f\"Driver={{ODBC Driver 17 for SQL Server}};Server={server};Database={database};UID={user};PWD={password}\")\n",
    "cursor = conn.cursor()\n",
    "cursor.execute(\"SELECT name, url, description FROM posts\")\n",
    "rows = cursor.fetchall()\n",
    "for row in rows:\n",
    "    print(row)\n",
    "conn.close()\n",
    "\n",
    "rows"
   ]
  }
 ],
 "metadata": {
  "kernelspec": {
   "display_name": "Python 3",
   "language": "python",
   "name": "python3"
  },
  "language_info": {
   "codemirror_mode": {
    "name": "ipython",
    "version": 3
   },
   "file_extension": ".py",
   "mimetype": "text/x-python",
   "name": "python",
   "nbconvert_exporter": "python",
   "pygments_lexer": "ipython3",
   "version": "3.10.12"
  },
  "orig_nbformat": 4
 },
 "nbformat": 4,
 "nbformat_minor": 2
}
