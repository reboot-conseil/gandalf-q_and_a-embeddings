{
 "cells": [
  {
   "cell_type": "markdown",
   "metadata": {},
   "source": [
    "## setting the whole shabang"
   ]
  },
  {
   "cell_type": "code",
   "execution_count": null,
   "metadata": {},
   "outputs": [],
   "source": [
    "%pip install pyodbc python-dotenv pandas tiktoken matplotlib"
   ]
  },
  {
   "cell_type": "code",
   "execution_count": 51,
   "metadata": {},
   "outputs": [],
   "source": [
    "# import dependencies\n",
    "import csv\n",
    "from dotenv import load_dotenv\n",
    "import os\n",
    "import pandas as pd\n",
    "import pyodbc\n",
    "import tiktoken"
   ]
  },
  {
   "cell_type": "code",
   "execution_count": 52,
   "metadata": {},
   "outputs": [
    {
     "data": {
      "text/plain": [
       "True"
      ]
     },
     "execution_count": 52,
     "metadata": {},
     "output_type": "execute_result"
    }
   ],
   "source": [
    "# loading env\n",
    "load_dotenv()"
   ]
  },
  {
   "cell_type": "markdown",
   "metadata": {},
   "source": [
    "## creating a data frame from the database"
   ]
  },
  {
   "cell_type": "code",
   "execution_count": 53,
   "metadata": {},
   "outputs": [],
   "source": [
    "# get the list of all Gandalf posts from the MSSQL db\n",
    "user = os.environ[\"DB_USER\"]\n",
    "password = os.getenv(\"DB_PASSWORD\")\n",
    "server = os.getenv(\"DB_SERVER\")\n",
    "database = os.getenv(\"DB_NAME\")\n",
    "\n",
    "# ! you may need to change that if you're not using the ODBC Driver 17 for SQL Server\n",
    "conn = pyodbc.connect(f\"Driver={{ODBC Driver 17 for SQL Server}};Server={server};Database={database};UID={user};PWD={password}\")\n",
    "cursor = conn.cursor()\n",
    "cursor.execute(\"SELECT name, url, description FROM posts\")\n",
    "rows = cursor.fetchall()\n",
    "\n",
    "posts = []\n",
    "\n",
    "for row in rows:\n",
    "    posts.append({\n",
    "        \"name\": row[0],\n",
    "        \"url\": row[1],\n",
    "        \"description\": row[2]\n",
    "    })\n",
    "\n",
    "# Create a dataframe from the rows\n",
    "df = pd.DataFrame(posts, columns=[\"name\", \"url\", \"description\"])\n",
    "\n",
    "conn.close()\n",
    "\n",
    "# export the dataframe to a csv file\n",
    "df.to_csv('gandalf_posts.csv')\n",
    "# df.head()"
   ]
  },
  {
   "cell_type": "markdown",
   "metadata": {},
   "source": [
    "## counting DB tokens"
   ]
  },
  {
   "cell_type": "code",
   "execution_count": 54,
   "metadata": {},
   "outputs": [
    {
     "data": {
      "text/plain": [
       "<Axes: >"
      ]
     },
     "execution_count": 54,
     "metadata": {},
     "output_type": "execute_result"
    },
    {
     "data": {
      "image/png": "[encoded data removed]",
      "text/plain": [
       "<Figure size 640x480 with 1 Axes>"
      ]
     },
     "metadata": {},
     "output_type": "display_data"
    }
   ],
   "source": [
    "# Load the cl100k_base tokenizer which is designed to work with the ada-002 model\n",
    "tokenizer = tiktoken.get_encoding(\"cl100k_base\")\n",
    "\n",
    "# TODO do the same thing with the tokens coming from the blog posts themselves\n",
    "df = pd.read_csv('gandalf_posts.csv', index_col=0)\n",
    "df.columns = [\"name\", \"url\", \"description\"]\n",
    "\n",
    "# Tokenize the text and save the number of tokens to a new column\n",
    "df['n_decription_tokens'] = df.description.apply(lambda x: len(tokenizer.encode(x)))\n",
    "# Visualize the distribution of the number of tokens per row using a histogram\n",
    "df.n_decription_tokens.hist()"
   ]
  }
 ],
 "metadata": {
  "kernelspec": {
   "display_name": "Python 3",
   "language": "python",
   "name": "python3"
  },
  "language_info": {
   "codemirror_mode": {
    "name": "ipython",
    "version": 3
   },
   "file_extension": ".py",
   "mimetype": "text/x-python",
   "name": "python",
   "nbconvert_exporter": "python",
   "pygments_lexer": "ipython3",
   "version": "3.10.12"
  },
  "orig_nbformat": 4
 },
 "nbformat": 4,
 "nbformat_minor": 2
}
